{
 "cells": [
  {
   "cell_type": "markdown",
   "id": "2ba5d325-7f13-45c4-ae30-edf323172503",
   "metadata": {},
   "source": [
    "#7 MARCH ASSIGNMENT"
   ]
  },
  {
   "cell_type": "markdown",
   "id": "21f48dd4-e9a6-4160-8874-61331bb219ec",
   "metadata": {},
   "source": [
    "Q1. What are the three measures of central tendency?"
   ]
  },
  {
   "cell_type": "markdown",
   "id": "250f4d83-2c98-40a0-8891-417a3dc4e015",
   "metadata": {},
   "source": [
    "ANSWER== Mean,Median and Mode are the three measure of central tendency."
   ]
  },
  {
   "cell_type": "markdown",
   "id": "53d83739-cbee-415c-a54e-efc0ee0d85a9",
   "metadata": {},
   "source": [
    "Q2. What is the difference between the mean, median, and mode? How are they used to measure the\n",
    "central tendency of a dataset?"
   ]
  },
  {
   "cell_type": "markdown",
   "id": "721edd7c-d3e2-48e8-ba39-890dee791b16",
   "metadata": {},
   "source": [
    "ANSWER== Mean is the average of all the observation in the given data.\n",
    "Median is the central value of the given data.\n",
    "Mode is the maximum frequency of the given data.mode is the value of the number which occurs most often in the list."
   ]
  },
  {
   "cell_type": "markdown",
   "id": "28e283f5-a8ac-4ea2-992e-27bf831d66bd",
   "metadata": {},
   "source": [
    "Q3. Measure the three measures of central tendency for the given height data:\n",
    "[178,177,176,177,178.2,178,175,179,180,175,178.9,176.2,177,172.5,178,176.5]"
   ]
  },
  {
   "cell_type": "code",
   "execution_count": 7,
   "id": "124fec30-9e64-4014-b0de-f9981b2f1fff",
   "metadata": {},
   "outputs": [],
   "source": [
    "ANSWER==\n",
    "x=[178,177,176,177,178.2,178,175,179,180,175,178.9,176.2,177,172.5,178,176.5]"
   ]
  },
  {
   "cell_type": "code",
   "execution_count": 8,
   "id": "f524297f-05bb-40fa-9593-9fac0b21ccbe",
   "metadata": {},
   "outputs": [],
   "source": [
    "import numpy as np"
   ]
  },
  {
   "cell_type": "code",
   "execution_count": 9,
   "id": "0124df41-b134-4ea8-9966-cd3853344e9e",
   "metadata": {},
   "outputs": [
    {
     "data": {
      "text/plain": [
       "177.01875"
      ]
     },
     "execution_count": 9,
     "metadata": {},
     "output_type": "execute_result"
    }
   ],
   "source": [
    "np.mean(x)"
   ]
  },
  {
   "cell_type": "code",
   "execution_count": 10,
   "id": "e12b386a-ab67-4294-85a5-39aa7851c0a2",
   "metadata": {},
   "outputs": [
    {
     "data": {
      "text/plain": [
       "177.0"
      ]
     },
     "execution_count": 10,
     "metadata": {},
     "output_type": "execute_result"
    }
   ],
   "source": [
    "np.median(x)"
   ]
  },
  {
   "cell_type": "code",
   "execution_count": 15,
   "id": "15cc8f85-b727-4395-9174-e23cd55ff8d9",
   "metadata": {},
   "outputs": [],
   "source": [
    "from scipy import stats"
   ]
  },
  {
   "cell_type": "code",
   "execution_count": 16,
   "id": "d88ea627-f435-457d-a9ae-3c18172a289e",
   "metadata": {},
   "outputs": [
    {
     "name": "stderr",
     "output_type": "stream",
     "text": [
      "/tmp/ipykernel_70/1654510724.py:1: FutureWarning: Unlike other reduction functions (e.g. `skew`, `kurtosis`), the default behavior of `mode` typically preserves the axis it acts along. In SciPy 1.11.0, this behavior will change: the default value of `keepdims` will become False, the `axis` over which the statistic is taken will be eliminated, and the value None will no longer be accepted. Set `keepdims` to True or False to avoid this warning.\n",
      "  stats.mode(x)\n"
     ]
    },
    {
     "data": {
      "text/plain": [
       "ModeResult(mode=array([177.]), count=array([3]))"
      ]
     },
     "execution_count": 16,
     "metadata": {},
     "output_type": "execute_result"
    }
   ],
   "source": [
    "stats.mode(x)"
   ]
  },
  {
   "cell_type": "markdown",
   "id": "7e0ff91b-36ba-401c-8a75-f4207b2fb1c1",
   "metadata": {},
   "source": [
    "Q4. Find the standard deviation for the given data:\n",
    "[178,177,176,177,178.2,178,175,179,180,175,178.9,176.2,177,172.5,178,176.5]"
   ]
  },
  {
   "cell_type": "code",
   "execution_count": 17,
   "id": "de27e9b6-f52b-43e7-9fa8-48cd988ec3f0",
   "metadata": {},
   "outputs": [],
   "source": [
    "ANSWER==\n",
    "y=[178,177,176,177,178.2,178,175,179,180,175,178.9,176.2,177,172.5,178,176.5]"
   ]
  },
  {
   "cell_type": "code",
   "execution_count": 18,
   "id": "b6d3d0b7-125e-4dd9-8cb2-c88031bba986",
   "metadata": {},
   "outputs": [],
   "source": [
    "import numpy as np"
   ]
  },
  {
   "cell_type": "code",
   "execution_count": 19,
   "id": "ec47bf68-b04b-4ad4-89ec-d3988cd20a0a",
   "metadata": {},
   "outputs": [
    {
     "data": {
      "text/plain": [
       "1.7885814036548633"
      ]
     },
     "execution_count": 19,
     "metadata": {},
     "output_type": "execute_result"
    }
   ],
   "source": [
    "np.std(y)"
   ]
  },
  {
   "cell_type": "markdown",
   "id": "817f7fd7-864b-4147-b1e0-636db99223f3",
   "metadata": {},
   "source": [
    "Q5. How are measures of dispersion such as range, variance, and standard deviation used to describe\n",
    "the spread of a dataset? Provide an example."
   ]
  },
  {
   "cell_type": "markdown",
   "id": "9fcebf80-9946-4e0d-abc8-8e4015226378",
   "metadata": {},
   "source": [
    " ANSWER== Range: defined as a single number representing the spread of the data.\n",
    " Standard deviation: defined as a number representing how far from the average each score is.\n",
    " Variance: defined as a number indicating how spread out the data is.\n",
    "#example= x=1,2,3,4,5"
   ]
  },
  {
   "cell_type": "code",
   "execution_count": 23,
   "id": "cc16ca4d-ab87-4b41-8205-6bd0eb1046a0",
   "metadata": {},
   "outputs": [],
   "source": [
    "x=1,2,3,4,5"
   ]
  },
  {
   "cell_type": "code",
   "execution_count": null,
   "id": "41099e22-a92e-49b9-a0f1-0206a51deec6",
   "metadata": {},
   "outputs": [],
   "source": [
    "range=max-min =5-1 = 4"
   ]
  },
  {
   "cell_type": "code",
   "execution_count": 22,
   "id": "3556b02f-393d-4f6c-8fc3-de0464ec9c43",
   "metadata": {},
   "outputs": [],
   "source": [
    "import numpy as np"
   ]
  },
  {
   "cell_type": "code",
   "execution_count": 24,
   "id": "c754513b-905c-476b-96bb-708ab33560cc",
   "metadata": {},
   "outputs": [
    {
     "data": {
      "text/plain": [
       "1.4142135623730951"
      ]
     },
     "execution_count": 24,
     "metadata": {},
     "output_type": "execute_result"
    }
   ],
   "source": [
    "np.std(x)"
   ]
  },
  {
   "cell_type": "code",
   "execution_count": 25,
   "id": "9a0f9d4f-a951-4641-af42-552b00d410ce",
   "metadata": {},
   "outputs": [
    {
     "data": {
      "text/plain": [
       "2.0"
      ]
     },
     "execution_count": 25,
     "metadata": {},
     "output_type": "execute_result"
    }
   ],
   "source": [
    "np.var(x)"
   ]
  },
  {
   "cell_type": "markdown",
   "id": "536266b2-6daf-44cc-b5d4-ea32c6cba2d3",
   "metadata": {},
   "source": [
    "Q6. What is a Venn diagram?"
   ]
  },
  {
   "cell_type": "markdown",
   "id": "6fc26667-da06-47fd-b2d4-2f15a77efce8",
   "metadata": {},
   "source": [
    "ANSWER== A Venn diagram is a widely used diagram style that shows the logical relation between sets"
   ]
  },
  {
   "cell_type": "markdown",
   "id": "3ffedcd5-06cc-4bf6-8dfc-eca2c13d8377",
   "metadata": {},
   "source": [
    "Q7. For the two given sets A = (2,3,4,5,6,7) & B =(0,2,6,8,10) . Find:\n",
    "(i) A ⋂ B\n",
    "(ii) A ⋃ B"
   ]
  },
  {
   "cell_type": "code",
   "execution_count": 26,
   "id": "4c2c0609-61af-461c-9788-81fa3c8d2eea",
   "metadata": {},
   "outputs": [],
   "source": [
    "ANSWER==\n",
    "A=(2,3,4,5,6,7)\n",
    "B=(0,2,6,8,10) "
   ]
  },
  {
   "cell_type": "code",
   "execution_count": null,
   "id": "fa025d43-a6b9-46b2-909c-38b941fad9bf",
   "metadata": {},
   "outputs": [],
   "source": [
    "(i) A intersection B={2,6}\n",
    "(ii) A union B ={0,2,3,4,5,,6,7,8,10}"
   ]
  },
  {
   "cell_type": "markdown",
   "id": "21585234-89c5-4074-a215-98eb382a9e3b",
   "metadata": {},
   "source": [
    "Q8. What do you understand about skewness in data?"
   ]
  },
  {
   "cell_type": "code",
   "execution_count": null,
   "id": "e2a1c132-dfbb-4a2f-9fa9-0807c8ee0d30",
   "metadata": {},
   "outputs": [],
   "source": [
    "ANSWER==Skewness is a measurement of the distortion of symmetrical distribution or asymmetry in a data set."
   ]
  },
  {
   "cell_type": "markdown",
   "id": "576114c0-8803-43c2-9260-50503dabd9d8",
   "metadata": {},
   "source": [
    "Distributions can exhibit right (positive) skewness or left (negative) skewness to varying degrees. A normal distribution (bell curve) exhibits zero skewness."
   ]
  },
  {
   "cell_type": "markdown",
   "id": "c4ead4ae-040e-472f-a3cc-5288c39e5fe6",
   "metadata": {},
   "source": [
    "Q9. If a data is right skewed then what will be the position of median with respect to mean?"
   ]
  },
  {
   "cell_type": "markdown",
   "id": "e50c0d20-dfbf-439c-8a4c-15d93b7decad",
   "metadata": {},
   "source": [
    "ANSWER== If the data is right skewed then it is called as positive skewed.\n",
    "        mean>=median"
   ]
  },
  {
   "cell_type": "markdown",
   "id": "9f3a1a5b-5f8c-4bbc-a691-f3cfc08dadbf",
   "metadata": {},
   "source": [
    "Q10. Explain the difference between covariance and correlation. How are these measures used in\n",
    "statistical analysis?"
   ]
  },
  {
   "cell_type": "markdown",
   "id": "3fd4d730-855f-47c1-aec1-8dcb85591baa",
   "metadata": {},
   "source": [
    "ANSWER==Covariance is an indicator of the extent to which 2 random variables are dependent on each other.\n",
    " Correlation is a statistical measure that indicates how strongly two variables are related. \n",
    "    correlation of (x,y)=covariance of (x,y)/std(x)*std(y)"
   ]
  },
  {
   "cell_type": "markdown",
   "id": "cd031dd9-188a-4e28-afa5-e3f520be762f",
   "metadata": {},
   "source": [
    "Q11. What is the formula for calculating the sample mean? Provide an example calculation for a\n",
    "dataset."
   ]
  },
  {
   "cell_type": "markdown",
   "id": "06677755-700d-43fc-a2f5-6c1819448bc2",
   "metadata": {},
   "source": [
    "ANSWER==sample mean= sum of obs. in given data/no. of obs.in given data"
   ]
  },
  {
   "cell_type": "code",
   "execution_count": 27,
   "id": "d5b4500c-cd99-4d31-98fa-7a16e8abb704",
   "metadata": {},
   "outputs": [],
   "source": [
    "x=[1,25,36,57,34,89,16,26]"
   ]
  },
  {
   "cell_type": "code",
   "execution_count": 28,
   "id": "f6a3a726-38de-4dd6-87cf-3869ddd11529",
   "metadata": {},
   "outputs": [],
   "source": [
    "import numpy as np"
   ]
  },
  {
   "cell_type": "code",
   "execution_count": 29,
   "id": "b4b04f54-d285-4334-84e2-c32b47102696",
   "metadata": {},
   "outputs": [
    {
     "data": {
      "text/plain": [
       "35.5"
      ]
     },
     "execution_count": 29,
     "metadata": {},
     "output_type": "execute_result"
    }
   ],
   "source": [
    "np.mean(x)"
   ]
  },
  {
   "cell_type": "markdown",
   "id": "8c1c7b2e-dcf3-4c91-923f-54dc2bcd8705",
   "metadata": {},
   "source": [
    "Q12. For a normal distribution data what is the relationship between its measure of central tendency?"
   ]
  },
  {
   "cell_type": "markdown",
   "id": "7be44686-84b1-4ab6-b03f-6ae507398910",
   "metadata": {},
   "source": [
    "ANSWER== For a normal distribution ,mean=median=mode"
   ]
  },
  {
   "cell_type": "markdown",
   "id": "03b9bc13-9b75-4ce2-bb34-3007335d3377",
   "metadata": {},
   "source": [
    "Q13. How is covariance different from correlation?"
   ]
  },
  {
   "cell_type": "markdown",
   "id": "06335ed5-554b-4063-bea2-52393f70fd69",
   "metadata": {},
   "source": [
    "ANSWER==Covariance shows you how the two variables differ, whereas correlation shows you how the two variables are related. "
   ]
  },
  {
   "cell_type": "markdown",
   "id": "d8042dbe-28ed-4ca6-89f2-3ad979e703ee",
   "metadata": {},
   "source": [
    "Q14. How do outliers affect measures of central tendency and dispersion? Provide an example."
   ]
  },
  {
   "cell_type": "markdown",
   "id": "d1f56c19-0b6d-47fa-8810-edb830813338",
   "metadata": {},
   "source": [
    "Outliers Measures of central tendency and dispersion can give misleading impressions of a data set if the set contains one or more outliers. An outlier is a value that is much greater than or much less than most of the other values in a data set. \n",
    "EX. Consider the data set: 11, 15, 10,37, 17, 14,9, 15 ,1000"
   ]
  }
 ],
 "metadata": {
  "kernelspec": {
   "display_name": "Python 3 (ipykernel)",
   "language": "python",
   "name": "python3"
  },
  "language_info": {
   "codemirror_mode": {
    "name": "ipython",
    "version": 3
   },
   "file_extension": ".py",
   "mimetype": "text/x-python",
   "name": "python",
   "nbconvert_exporter": "python",
   "pygments_lexer": "ipython3",
   "version": "3.10.8"
  }
 },
 "nbformat": 4,
 "nbformat_minor": 5
}
